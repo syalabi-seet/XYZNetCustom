{
 "cells": [
  {
   "cell_type": "code",
   "execution_count": 1,
   "metadata": {},
   "outputs": [],
   "source": [
    "import os\n",
    "\n",
    "import matplotlib.pyplot as plt\n",
    "import tensorflow as tf\n",
    "\n",
    "from src.dataset import *\n",
    "from src.model import *\n",
    "\n",
    "os.environ['CUDA_VISIBLE_DEVICES'] = '0'"
   ]
  },
  {
   "cell_type": "markdown",
   "metadata": {},
   "source": [
    "# Write TFRecord shards"
   ]
  },
  {
   "cell_type": "code",
   "execution_count": 2,
   "metadata": {},
   "outputs": [],
   "source": [
    "# TFRWriter().write()"
   ]
  },
  {
   "cell_type": "markdown",
   "metadata": {},
   "source": [
    "# Initialize model"
   ]
  },
  {
   "cell_type": "code",
   "execution_count": 3,
   "metadata": {},
   "outputs": [
    {
     "name": "stderr",
     "output_type": "stream",
     "text": [
      "2022-05-31 10:56:47.553882: I tensorflow/stream_executor/cuda/cuda_gpu_executor.cc:938] could not open file to read NUMA node: /sys/bus/pci/devices/0000:0d:00.0/numa_node\n",
      "Your kernel may have been built without NUMA support.\n",
      "2022-05-31 10:56:47.580096: I tensorflow/stream_executor/cuda/cuda_gpu_executor.cc:938] could not open file to read NUMA node: /sys/bus/pci/devices/0000:0d:00.0/numa_node\n",
      "Your kernel may have been built without NUMA support.\n",
      "2022-05-31 10:56:47.580385: I tensorflow/stream_executor/cuda/cuda_gpu_executor.cc:938] could not open file to read NUMA node: /sys/bus/pci/devices/0000:0d:00.0/numa_node\n",
      "Your kernel may have been built without NUMA support.\n",
      "2022-05-31 10:56:47.580974: I tensorflow/core/platform/cpu_feature_guard.cc:152] This TensorFlow binary is optimized with oneAPI Deep Neural Network Library (oneDNN) to use the following CPU instructions in performance-critical operations:  SSE3 SSE4.1 SSE4.2 AVX\n",
      "To enable them in other operations, rebuild TensorFlow with the appropriate compiler flags.\n",
      "2022-05-31 10:56:47.582566: I tensorflow/stream_executor/cuda/cuda_gpu_executor.cc:938] could not open file to read NUMA node: /sys/bus/pci/devices/0000:0d:00.0/numa_node\n",
      "Your kernel may have been built without NUMA support.\n",
      "2022-05-31 10:56:47.582790: I tensorflow/stream_executor/cuda/cuda_gpu_executor.cc:938] could not open file to read NUMA node: /sys/bus/pci/devices/0000:0d:00.0/numa_node\n",
      "Your kernel may have been built without NUMA support.\n",
      "2022-05-31 10:56:47.582999: I tensorflow/stream_executor/cuda/cuda_gpu_executor.cc:938] could not open file to read NUMA node: /sys/bus/pci/devices/0000:0d:00.0/numa_node\n",
      "Your kernel may have been built without NUMA support.\n",
      "2022-05-31 10:56:48.044093: I tensorflow/stream_executor/cuda/cuda_gpu_executor.cc:938] could not open file to read NUMA node: /sys/bus/pci/devices/0000:0d:00.0/numa_node\n",
      "Your kernel may have been built without NUMA support.\n",
      "2022-05-31 10:56:48.044327: I tensorflow/stream_executor/cuda/cuda_gpu_executor.cc:938] could not open file to read NUMA node: /sys/bus/pci/devices/0000:0d:00.0/numa_node\n",
      "Your kernel may have been built without NUMA support.\n",
      "2022-05-31 10:56:48.044339: I tensorflow/core/common_runtime/gpu/gpu_device.cc:1609] Could not identify NUMA node of platform GPU id 0, defaulting to 0.  Your kernel may not have been built with NUMA support.\n",
      "2022-05-31 10:56:48.044528: I tensorflow/stream_executor/cuda/cuda_gpu_executor.cc:938] could not open file to read NUMA node: /sys/bus/pci/devices/0000:0d:00.0/numa_node\n",
      "Your kernel may have been built without NUMA support.\n",
      "2022-05-31 10:56:48.044571: I tensorflow/core/common_runtime/gpu/gpu_device.cc:1525] Created device /job:localhost/replica:0/task:0/device:GPU:0 with 21398 MB memory:  -> device: 0, name: NVIDIA GeForce RTX 3090, pci bus id: 0000:0d:00.0, compute capability: 8.6\n"
     ]
    }
   ],
   "source": [
    "config = {\n",
    "    'local_depth': 16,\n",
    "    'local_convdepth': 32,\n",
    "    'global_depth': 5,\n",
    "    'global_convdepth': 64,\n",
    "    'global_imagesize': 128,\n",
    "    'scale': 0.25}\n",
    "\n",
    "model = CIEXYZNet(**config)"
   ]
  },
  {
   "cell_type": "markdown",
   "metadata": {},
   "source": [
    "# Build model"
   ]
  },
  {
   "cell_type": "code",
   "execution_count": 4,
   "metadata": {},
   "outputs": [],
   "source": [
    "val_data = DataLoader('validation').data"
   ]
  },
  {
   "cell_type": "code",
   "execution_count": 5,
   "metadata": {},
   "outputs": [
    {
     "name": "stderr",
     "output_type": "stream",
     "text": [
      "2022-05-31 10:56:49.842527: I tensorflow/stream_executor/cuda/cuda_dnn.cc:379] Loaded cuDNN version 8400\n",
      "2022-05-31 10:56:50.965177: I tensorflow/stream_executor/cuda/cuda_blas.cc:1804] TensorFloat-32 will be used for the matrix multiplication. This will only be logged once.\n"
     ]
    }
   ],
   "source": [
    "for i, val_batch in enumerate(val_data):\n",
    "    logits = model(val_batch['sRGB_image'])"
   ]
  },
  {
   "cell_type": "code",
   "execution_count": 6,
   "metadata": {},
   "outputs": [
    {
     "name": "stdout",
     "output_type": "stream",
     "text": [
      "Model: \"ciexyz_net\"\n",
      "_________________________________________________________________\n",
      " Layer (type)                Output Shape              Param #   \n",
      "=================================================================\n",
      " sRGB2XYZ_localnet (Sequenti  (None, 256, 256, 3)      131235    \n",
      " al)                                                             \n",
      "                                                                 \n",
      " XYZ2sRGB_localnet (Sequenti  (None, 256, 256, 3)      131235    \n",
      " al)                                                             \n",
      "                                                                 \n",
      " sRGB2XYZ_globalnet (Sequent  (None, 18)               1217554   \n",
      " ial)                                                            \n",
      "                                                                 \n",
      " XYZ2sRGB_globalnet (Sequent  (None, 18)               1217554   \n",
      " ial)                                                            \n",
      "                                                                 \n",
      "=================================================================\n",
      "Total params: 2,697,578\n",
      "Trainable params: 2,697,578\n",
      "Non-trainable params: 0\n",
      "_________________________________________________________________\n"
     ]
    }
   ],
   "source": [
    "model.summary()"
   ]
  },
  {
   "cell_type": "code",
   "execution_count": 7,
   "metadata": {},
   "outputs": [
    {
     "name": "stdout",
     "output_type": "stream",
     "text": [
      "Model: \"sRGB2XYZ_localnet\"\n",
      "_________________________________________________________________\n",
      " Layer (type)                Output Shape              Param #   \n",
      "=================================================================\n",
      " conv_0 (Conv2D)             (None, 256, 256, 32)      896       \n",
      "                                                                 \n",
      " conv_1 (Conv2D)             (None, 256, 256, 32)      9248      \n",
      "                                                                 \n",
      " conv_2 (Conv2D)             (None, 256, 256, 32)      9248      \n",
      "                                                                 \n",
      " conv_3 (Conv2D)             (None, 256, 256, 32)      9248      \n",
      "                                                                 \n",
      " conv_4 (Conv2D)             (None, 256, 256, 32)      9248      \n",
      "                                                                 \n",
      " conv_5 (Conv2D)             (None, 256, 256, 32)      9248      \n",
      "                                                                 \n",
      " conv_6 (Conv2D)             (None, 256, 256, 32)      9248      \n",
      "                                                                 \n",
      " conv_7 (Conv2D)             (None, 256, 256, 32)      9248      \n",
      "                                                                 \n",
      " conv_8 (Conv2D)             (None, 256, 256, 32)      9248      \n",
      "                                                                 \n",
      " conv_9 (Conv2D)             (None, 256, 256, 32)      9248      \n",
      "                                                                 \n",
      " conv_10 (Conv2D)            (None, 256, 256, 32)      9248      \n",
      "                                                                 \n",
      " conv_11 (Conv2D)            (None, 256, 256, 32)      9248      \n",
      "                                                                 \n",
      " conv_12 (Conv2D)            (None, 256, 256, 32)      9248      \n",
      "                                                                 \n",
      " conv_13 (Conv2D)            (None, 256, 256, 32)      9248      \n",
      "                                                                 \n",
      " conv_14 (Conv2D)            (None, 256, 256, 32)      9248      \n",
      "                                                                 \n",
      " conv_15 (Conv2D)            (None, 256, 256, 3)       867       \n",
      "                                                                 \n",
      " rescaling (Rescaling)       (None, 256, 256, 3)       0         \n",
      "                                                                 \n",
      "=================================================================\n",
      "Total params: 131,235\n",
      "Trainable params: 131,235\n",
      "Non-trainable params: 0\n",
      "_________________________________________________________________\n"
     ]
    }
   ],
   "source": [
    "model.srgb2xyz_localnet.summary()"
   ]
  },
  {
   "cell_type": "code",
   "execution_count": 8,
   "metadata": {},
   "outputs": [
    {
     "name": "stdout",
     "output_type": "stream",
     "text": [
      "Model: \"sRGB2XYZ_globalnet\"\n",
      "_________________________________________________________________\n",
      " Layer (type)                Output Shape              Param #   \n",
      "=================================================================\n",
      " resizing (Resizing)         (None, 128, 128, 3)       0         \n",
      "                                                                 \n",
      " conv_0 (Conv2D)             (None, 128, 128, 64)      1792      \n",
      "                                                                 \n",
      " maxpool_0 (MaxPooling2D)    (None, 64, 64, 64)        0         \n",
      "                                                                 \n",
      " conv_1 (Conv2D)             (None, 64, 64, 64)        36928     \n",
      "                                                                 \n",
      " maxpool_1 (MaxPooling2D)    (None, 32, 32, 64)        0         \n",
      "                                                                 \n",
      " conv_2 (Conv2D)             (None, 32, 32, 64)        36928     \n",
      "                                                                 \n",
      " maxpool_2 (MaxPooling2D)    (None, 16, 16, 64)        0         \n",
      "                                                                 \n",
      " conv_3 (Conv2D)             (None, 16, 16, 64)        36928     \n",
      "                                                                 \n",
      " maxpool_3 (MaxPooling2D)    (None, 8, 8, 64)          0         \n",
      "                                                                 \n",
      " conv_4 (Conv2D)             (None, 8, 8, 64)          36928     \n",
      "                                                                 \n",
      " maxpool_4 (MaxPooling2D)    (None, 4, 4, 64)          0         \n",
      "                                                                 \n",
      " flatten_0 (Flatten)         (None, 1024)              0         \n",
      "                                                                 \n",
      " dense_0 (Dense)             (None, 1024)              1049600   \n",
      "                                                                 \n",
      " dropout_0 (Dropout)         (None, 1024)              0         \n",
      "                                                                 \n",
      " dense_1 (Dense)             (None, 18)                18450     \n",
      "                                                                 \n",
      "=================================================================\n",
      "Total params: 1,217,554\n",
      "Trainable params: 1,217,554\n",
      "Non-trainable params: 0\n",
      "_________________________________________________________________\n"
     ]
    }
   ],
   "source": [
    "model.srgb2xyz_globalnet.summary()"
   ]
  }
 ],
 "metadata": {
  "interpreter": {
   "hash": "e7370f93d1d0cde622a1f8e1c04877d8463912d04d973331ad4851f04de6915a"
  },
  "kernelspec": {
   "display_name": "Python 3.8.10 64-bit",
   "language": "python",
   "name": "python3"
  },
  "language_info": {
   "codemirror_mode": {
    "name": "ipython",
    "version": 3
   },
   "file_extension": ".py",
   "mimetype": "text/x-python",
   "name": "python",
   "nbconvert_exporter": "python",
   "pygments_lexer": "ipython3",
   "version": "3.8.10"
  },
  "orig_nbformat": 4
 },
 "nbformat": 4,
 "nbformat_minor": 2
}
