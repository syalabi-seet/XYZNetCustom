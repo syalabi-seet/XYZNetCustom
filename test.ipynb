{
 "cells": [
  {
   "cell_type": "code",
   "execution_count": 1,
   "metadata": {},
   "outputs": [],
   "source": [
    "import os\n",
    "import glob\n",
    "from tqdm import tqdm\n",
    "import cv2\n",
    "from sklearn.model_selection import KFold\n",
    "\n",
    "import numpy as np\n",
    "import tensorflow as tf"
   ]
  },
  {
   "cell_type": "code",
   "execution_count": 2,
   "metadata": {},
   "outputs": [
    {
     "name": "stderr",
     "output_type": "stream",
     "text": [
      "100%|██████████| 5/5 [00:00<00:00, 29.72it/s]\n",
      "100%|██████████| 5/5 [00:01<00:00,  2.85it/s]\n"
     ]
    }
   ],
   "source": [
    "for mode in ['sRGB', 'XYZ']:\n",
    "    files = glob.glob(f\"sRGB2XYZ/{mode}_*/*\")\n",
    "    file_dict = {}\n",
    "    for file in tqdm(files[:5]):\n",
    "        image = cv2.imread(file)\n",
    "        file_dict[file] = image.shape"
   ]
  },
  {
   "cell_type": "code",
   "execution_count": 3,
   "metadata": {},
   "outputs": [
    {
     "data": {
      "text/plain": [
       "{'sRGB2XYZ/XYZ_testing/a0024-_DSC8932.png': (1416, 2128, 3),\n",
       " 'sRGB2XYZ/XYZ_testing/a0035-dgw_048.png': (1416, 2128, 3),\n",
       " 'sRGB2XYZ/XYZ_testing/a0042-060813_155838__MG_6361.png': (2184, 1456, 3),\n",
       " 'sRGB2XYZ/XYZ_testing/a0054-kme_097.png': (1296, 1944, 3),\n",
       " 'sRGB2XYZ/XYZ_testing/a0070-IMG_4327.png': (2136, 1424, 3)}"
      ]
     },
     "execution_count": 3,
     "metadata": {},
     "output_type": "execute_result"
    }
   ],
   "source": [
    "file_dict"
   ]
  },
  {
   "cell_type": "code",
   "execution_count": null,
   "metadata": {},
   "outputs": [],
   "source": [
    "class TFRWriter:\n",
    "    def __init__(self):\n",
    "        self.main_dir = \"sRGB2XYZ\"\n",
    "        self.save_path = os.path.join(self.main_dir, \"shards\")\n",
    "        return\n",
    "\n",
    "    def _bytes_feature(self, value):\n",
    "        \"\"\"Returns a bytes_list from a string / byte.\"\"\"\n",
    "        if isinstance(value, type(tf.constant(0))):\n",
    "            value = value.numpy()\n",
    "        return tf.train.Feature(bytes_list=tf.train.BytesList(value=[value]))\n",
    "    \n",
    "    def serialize_example(self, sample):\n",
    "        feature = {\n",
    "            \"XYZ_image\": self._bytes_feature(sample[0]),\n",
    "            \"sRGB_image\": self._bytes_feature(sample[1]),\n",
    "            \"filename\": self._bytes_feature(sample[2])}\n",
    "\n",
    "        example_proto = tf.train.Example(\n",
    "            features=tf.train.Features(feature=feature))\n",
    "        return example_proto.SerializeToString()\n",
    "\n",
    "    def get_samples(self, train_set):\n",
    "        path = f\"{self.main_dir}/sRGB_{train_set}/*.JPG\"\n",
    "        return glob.glob(path)\n",
    "\n",
    "    def get_sample_data(self, sample):\n",
    "        xyz_filename = sample.replace(\"sRGB_\", \"XYZ_\").replace(\".JPG\", \".png\")\n",
    "        assert os.path.exists(xyz_filename), f\"{xyz_filename} file does not exist.\"\n",
    "\n",
    "        srgb_image = cv2.imread(sample)\n",
    "        xyz_image = cv2.imread(xyz_filename)\n",
    "        filename = os.path.basename(sample)\n",
    "                \n",
    "        return [\n",
    "            tf.io.serialize_tensor(xyz_image, name=\"XYZ_image\"),\n",
    "            tf.io.serialize_tensor(srgb_image, name=\"sRGB_image\"),\n",
    "            tf.io.serialize_tensor(filename, name=\"filename\")]\n",
    "\n",
    "    def write(self):\n",
    "        for train_set in [\"training\", \"validation\", \"testing\"]:\n",
    "            shard_path = os.path.join(self.save_path, f\"{train_set}.tfrec\")\n",
    "            samples = self.get_samples(train_set)\n",
    "            with tf.io.TFRecordWriter(shard_path) as f:\n",
    "                for sample in tqdm(samples, total=len(samples), desc=f\"{train_set}\"):\n",
    "                    sample_data = self.get_sample_data(sample)\n",
    "                    f.write(self.serialize_example(sample_data))\n",
    "\n",
    "TFRWriter().write()"
   ]
  },
  {
   "cell_type": "code",
   "execution_count": null,
   "metadata": {},
   "outputs": [],
   "source": [
    "class DataLoader:\n",
    "    def __init__(self):\n",
    "        self.batch_size = 8\n",
    "        self.buffer_size = 64\n",
    "        return\n",
    "\n",
    "    def read_tfrecord(self, example):\n",
    "        feature_description = {\n",
    "            'XYZ_image': tf.io.FixedLenFeature([], tf.string),\n",
    "            'sRGB_image': tf.io.FixedLenFeature([], tf.string),\n",
    "            'filename': tf.io.FixedLenFeature([], tf.string)}\n",
    "        \n",
    "        example = tf.io.parse_single_example(example, feature_description)\n",
    "        example['XYZ_image'] = tf.io.parse_tensor(example['XYZ_image'], out_type=tf.uint8)\n",
    "        example['sRGB_image'] = tf.io.parse_tensor(example['sRGB_image'], out_type=tf.uint8)\n",
    "        example['filename'] = tf.io.parse_tensor(example['filename'], out_type=tf.string)\n",
    "        return example\n",
    "    \n",
    "    def load_dataset(self, files):\n",
    "        ignore_order = tf.data.Options()\n",
    "        ignore_order.experimental_deterministic = False\n",
    "        dataset = tf.data.TFRecordDataset(files)\n",
    "        dataset = dataset.with_options(ignore_order)\n",
    "        dataset = dataset.map(self.read_tfrecord, num_parallel_calls=tf.data.AUTOTUNE)\n",
    "        return dataset\n",
    "\n",
    "    def get_dataset(self, train_set):\n",
    "        dataset = self.load_dataset(f\"sRGB2XYZ/shards/{train_set}.tfrec\")\n",
    "        dataset = dataset.shuffle(self.buffer_size)\n",
    "        dataset = dataset.batch(self.batch_size)\n",
    "        dataset = dataset.prefetch(tf.data.AUTOTUNE)\n",
    "        return dataset\n",
    "\n",
    "val = DataLoader().get_dataset('validation')\n",
    "val"
   ]
  },
  {
   "cell_type": "code",
   "execution_count": null,
   "metadata": {},
   "outputs": [],
   "source": [
    "next(iter(val))"
   ]
  }
 ],
 "metadata": {
  "interpreter": {
   "hash": "e7370f93d1d0cde622a1f8e1c04877d8463912d04d973331ad4851f04de6915a"
  },
  "kernelspec": {
   "display_name": "Python 3.8.10 64-bit",
   "language": "python",
   "name": "python3"
  },
  "language_info": {
   "codemirror_mode": {
    "name": "ipython",
    "version": 3
   },
   "file_extension": ".py",
   "mimetype": "text/x-python",
   "name": "python",
   "nbconvert_exporter": "python",
   "pygments_lexer": "ipython3",
   "version": "3.8.10"
  },
  "orig_nbformat": 4
 },
 "nbformat": 4,
 "nbformat_minor": 2
}
