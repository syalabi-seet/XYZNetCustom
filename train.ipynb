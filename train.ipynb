{
 "cells": [
  {
   "cell_type": "code",
   "execution_count": 1,
   "metadata": {},
   "outputs": [],
   "source": [
    "import os\n",
    "\n",
    "import pandas as pd\n",
    "import matplotlib.pyplot as plt\n",
    "import tensorflow as tf\n",
    "\n",
    "from src.dataset import *\n",
    "from src.model import *\n",
    "\n",
    "os.environ['CUDA_VISIBLE_DEVICES'] = '0'"
   ]
  },
  {
   "cell_type": "code",
   "execution_count": 2,
   "metadata": {},
   "outputs": [
    {
     "name": "stderr",
     "output_type": "stream",
     "text": [
      "2022-05-31 12:06:37.148410: I tensorflow/stream_executor/cuda/cuda_gpu_executor.cc:938] could not open file to read NUMA node: /sys/bus/pci/devices/0000:0d:00.0/numa_node\n",
      "Your kernel may have been built without NUMA support.\n",
      "2022-05-31 12:06:37.175945: I tensorflow/stream_executor/cuda/cuda_gpu_executor.cc:938] could not open file to read NUMA node: /sys/bus/pci/devices/0000:0d:00.0/numa_node\n",
      "Your kernel may have been built without NUMA support.\n",
      "2022-05-31 12:06:37.176274: I tensorflow/stream_executor/cuda/cuda_gpu_executor.cc:938] could not open file to read NUMA node: /sys/bus/pci/devices/0000:0d:00.0/numa_node\n",
      "Your kernel may have been built without NUMA support.\n",
      "2022-05-31 12:06:37.176632: I tensorflow/core/platform/cpu_feature_guard.cc:152] This TensorFlow binary is optimized with oneAPI Deep Neural Network Library (oneDNN) to use the following CPU instructions in performance-critical operations:  SSE3 SSE4.1 SSE4.2 AVX\n",
      "To enable them in other operations, rebuild TensorFlow with the appropriate compiler flags.\n",
      "2022-05-31 12:06:37.178796: I tensorflow/stream_executor/cuda/cuda_gpu_executor.cc:938] could not open file to read NUMA node: /sys/bus/pci/devices/0000:0d:00.0/numa_node\n",
      "Your kernel may have been built without NUMA support.\n",
      "2022-05-31 12:06:37.179041: I tensorflow/stream_executor/cuda/cuda_gpu_executor.cc:938] could not open file to read NUMA node: /sys/bus/pci/devices/0000:0d:00.0/numa_node\n",
      "Your kernel may have been built without NUMA support.\n",
      "2022-05-31 12:06:37.179259: I tensorflow/stream_executor/cuda/cuda_gpu_executor.cc:938] could not open file to read NUMA node: /sys/bus/pci/devices/0000:0d:00.0/numa_node\n",
      "Your kernel may have been built without NUMA support.\n",
      "2022-05-31 12:06:37.643478: I tensorflow/stream_executor/cuda/cuda_gpu_executor.cc:938] could not open file to read NUMA node: /sys/bus/pci/devices/0000:0d:00.0/numa_node\n",
      "Your kernel may have been built without NUMA support.\n",
      "2022-05-31 12:06:37.643702: I tensorflow/stream_executor/cuda/cuda_gpu_executor.cc:938] could not open file to read NUMA node: /sys/bus/pci/devices/0000:0d:00.0/numa_node\n",
      "Your kernel may have been built without NUMA support.\n",
      "2022-05-31 12:06:37.643715: I tensorflow/core/common_runtime/gpu/gpu_device.cc:1609] Could not identify NUMA node of platform GPU id 0, defaulting to 0.  Your kernel may not have been built with NUMA support.\n",
      "2022-05-31 12:06:37.643899: I tensorflow/stream_executor/cuda/cuda_gpu_executor.cc:938] could not open file to read NUMA node: /sys/bus/pci/devices/0000:0d:00.0/numa_node\n",
      "Your kernel may have been built without NUMA support.\n",
      "2022-05-31 12:06:37.643940: I tensorflow/core/common_runtime/gpu/gpu_device.cc:1525] Created device /job:localhost/replica:0/task:0/device:GPU:0 with 21398 MB memory:  -> device: 0, name: NVIDIA GeForce RTX 3090, pci bus id: 0000:0d:00.0, compute capability: 8.6\n"
     ]
    }
   ],
   "source": [
    "config = {\n",
    "    'local_depth': 16,\n",
    "    'local_convdepth': 32,\n",
    "    'global_depth': 5,\n",
    "    'global_convdepth': 64,\n",
    "    'global_imagesize': 128,\n",
    "    'scale': 0.25}\n",
    "\n",
    "model = CIEXYZNet(**config)"
   ]
  },
  {
   "cell_type": "code",
   "execution_count": 3,
   "metadata": {},
   "outputs": [
    {
     "name": "stdout",
     "output_type": "stream",
     "text": [
      "Epoch 1/50\n"
     ]
    },
    {
     "name": "stderr",
     "output_type": "stream",
     "text": [
      "2022-05-31 12:06:39.525378: I tensorflow/stream_executor/cuda/cuda_dnn.cc:379] Loaded cuDNN version 8400\n",
      "2022-05-31 12:06:40.552151: I tensorflow/stream_executor/cuda/cuda_blas.cc:1804] TensorFloat-32 will be used for the matrix multiplication. This will only be logged once.\n"
     ]
    },
    {
     "name": "stdout",
     "output_type": "stream",
     "text": [
      "121/121 [==============================] - 21s 147ms/step - loss: 2.0946 - val_loss: 0.3856\n",
      "Epoch 2/50\n",
      "121/121 [==============================] - 17s 141ms/step - loss: 0.4449 - val_loss: 0.2937\n",
      "Epoch 3/50\n",
      "121/121 [==============================] - 17s 141ms/step - loss: 0.3490 - val_loss: 0.2464\n",
      "Epoch 4/50\n",
      "121/121 [==============================] - 17s 141ms/step - loss: 0.3048 - val_loss: 0.2070\n",
      "Epoch 5/50\n",
      "121/121 [==============================] - 17s 141ms/step - loss: 0.2699 - val_loss: 0.1836\n",
      "Epoch 6/50\n",
      "121/121 [==============================] - 17s 142ms/step - loss: 0.2332 - val_loss: 0.1782\n",
      "Epoch 7/50\n",
      "121/121 [==============================] - 17s 142ms/step - loss: 0.2055 - val_loss: 0.1498\n",
      "Epoch 8/50\n",
      "121/121 [==============================] - 17s 142ms/step - loss: 0.1903 - val_loss: 0.1340\n",
      "Epoch 9/50\n",
      "121/121 [==============================] - 18s 144ms/step - loss: 0.1774 - val_loss: 0.1379\n",
      "Epoch 10/50\n",
      "121/121 [==============================] - 18s 145ms/step - loss: 0.1665 - val_loss: 0.1219\n",
      "Epoch 11/50\n",
      "121/121 [==============================] - 18s 144ms/step - loss: 0.1543 - val_loss: 0.1346\n",
      "Epoch 12/50\n",
      "121/121 [==============================] - 17s 142ms/step - loss: 0.1448 - val_loss: 0.1126\n",
      "Epoch 13/50\n",
      "121/121 [==============================] - 17s 142ms/step - loss: 0.1365 - val_loss: 0.1236\n",
      "Epoch 14/50\n",
      "121/121 [==============================] - 18s 143ms/step - loss: 0.1337 - val_loss: 0.1041\n",
      "Epoch 15/50\n",
      "121/121 [==============================] - 18s 143ms/step - loss: 0.1283 - val_loss: 0.1016\n",
      "Epoch 16/50\n",
      "121/121 [==============================] - 18s 143ms/step - loss: 0.1240 - val_loss: 0.0966\n",
      "Epoch 17/50\n",
      "121/121 [==============================] - 18s 143ms/step - loss: 0.1168 - val_loss: 0.0925\n",
      "Epoch 18/50\n",
      "121/121 [==============================] - 18s 144ms/step - loss: 0.1148 - val_loss: 0.0919\n",
      "Epoch 19/50\n",
      "121/121 [==============================] - 18s 143ms/step - loss: 0.1093 - val_loss: 0.0898\n",
      "Epoch 20/50\n",
      "121/121 [==============================] - 17s 142ms/step - loss: 0.1074 - val_loss: 0.0885\n",
      "Epoch 21/50\n",
      "121/121 [==============================] - 17s 142ms/step - loss: 0.1048 - val_loss: 0.0848\n",
      "Epoch 22/50\n",
      "121/121 [==============================] - 17s 142ms/step - loss: 0.1012 - val_loss: 0.0871\n",
      "Epoch 23/50\n",
      "121/121 [==============================] - 18s 143ms/step - loss: 0.0997 - val_loss: 0.0796\n",
      "Epoch 24/50\n",
      "121/121 [==============================] - 18s 143ms/step - loss: 0.0982 - val_loss: 0.0794\n",
      "Epoch 25/50\n",
      "121/121 [==============================] - 24s 196ms/step - loss: 0.0948 - val_loss: 0.0803\n",
      "Epoch 26/50\n",
      "121/121 [==============================] - 17s 142ms/step - loss: 0.0916 - val_loss: 0.0767\n",
      "Epoch 27/50\n",
      "121/121 [==============================] - 18s 147ms/step - loss: 0.0925 - val_loss: 0.0797\n",
      "Epoch 28/50\n",
      "121/121 [==============================] - 18s 143ms/step - loss: 0.0900 - val_loss: 0.0756\n",
      "Epoch 29/50\n",
      "121/121 [==============================] - 18s 144ms/step - loss: 0.0888 - val_loss: 0.0753\n",
      "Epoch 30/50\n",
      "121/121 [==============================] - 18s 143ms/step - loss: 0.0869 - val_loss: 0.0769\n",
      "Epoch 31/50\n",
      "121/121 [==============================] - 18s 143ms/step - loss: 0.0877 - val_loss: 0.0816\n",
      "Epoch 32/50\n",
      "121/121 [==============================] - 18s 143ms/step - loss: 0.0868 - val_loss: 0.0732\n",
      "Epoch 33/50\n",
      "121/121 [==============================] - 18s 143ms/step - loss: 0.0851 - val_loss: 0.0758\n",
      "Epoch 34/50\n",
      "121/121 [==============================] - 18s 143ms/step - loss: 0.0835 - val_loss: 0.0725\n",
      "Epoch 35/50\n",
      "121/121 [==============================] - 18s 145ms/step - loss: 0.0829 - val_loss: 0.0720\n",
      "Epoch 36/50\n",
      "121/121 [==============================] - 18s 145ms/step - loss: 0.0807 - val_loss: 0.0736\n",
      "Epoch 37/50\n",
      "121/121 [==============================] - 18s 145ms/step - loss: 0.0797 - val_loss: 0.0694\n",
      "Epoch 38/50\n",
      "121/121 [==============================] - 18s 144ms/step - loss: 0.0806 - val_loss: 0.0697\n",
      "Epoch 39/50\n",
      "121/121 [==============================] - 18s 145ms/step - loss: 0.0795 - val_loss: 0.0738\n",
      "Epoch 40/50\n",
      "121/121 [==============================] - 18s 144ms/step - loss: 0.0795 - val_loss: 0.0686\n",
      "Epoch 41/50\n",
      "121/121 [==============================] - 18s 144ms/step - loss: 0.0769 - val_loss: 0.0667\n",
      "Epoch 42/50\n",
      "121/121 [==============================] - 18s 144ms/step - loss: 0.0761 - val_loss: 0.0678\n",
      "Epoch 43/50\n",
      "121/121 [==============================] - 18s 145ms/step - loss: 0.0755 - val_loss: 0.0693\n",
      "Epoch 44/50\n",
      "121/121 [==============================] - 18s 146ms/step - loss: 0.0753 - val_loss: 0.0667\n",
      "Epoch 45/50\n",
      "121/121 [==============================] - 18s 144ms/step - loss: 0.0740 - val_loss: 0.0656\n",
      "Epoch 46/50\n",
      "121/121 [==============================] - 18s 145ms/step - loss: 0.0743 - val_loss: 0.0654\n",
      "Epoch 47/50\n",
      "121/121 [==============================] - 18s 145ms/step - loss: 0.0733 - val_loss: 0.0630\n",
      "Epoch 48/50\n",
      "121/121 [==============================] - 18s 146ms/step - loss: 0.0731 - val_loss: 0.0676\n",
      "Epoch 49/50\n",
      "121/121 [==============================] - 18s 146ms/step - loss: 0.0721 - val_loss: 0.0651\n",
      "Epoch 50/50\n",
      "121/121 [==============================] - 18s 145ms/step - loss: 0.0718 - val_loss: 0.0652\n"
     ]
    }
   ],
   "source": [
    "EPOCHS = 50\n",
    "loss_fn = CompiledMAELoss()\n",
    "optimizer = tf.keras.optimizers.Adam(learning_rate=1e-4)\n",
    "metric_fn = tf.keras.metrics.Mean()\n",
    "\n",
    "train_dataset = DataLoader(\"training\")\n",
    "test_dataset = DataLoader(\"validation\")\n",
    "val_dataset = DataLoader(\"testing\")\n",
    "\n",
    "train_steps = len(train_dataset)\n",
    "\n",
    "history = []\n",
    "for epoch in range(1, EPOCHS+1):\n",
    "    print(f\"Epoch {epoch}/{EPOCHS}\")\n",
    "    progbar = tf.keras.utils.Progbar(\n",
    "        train_steps, interval=0.05,\n",
    "        stateful_metrics=['loss', 'val_loss'])\n",
    "    for step, train_batch in enumerate(train_dataset.data):\n",
    "        sRGB_image = train_batch['sRGB_image']\n",
    "        XYZ_image = train_batch['XYZ_image']\n",
    "        with tf.GradientTape() as tape:\n",
    "            train_logits = model(sRGB_image, training=True)\n",
    "            train_loss = loss_fn((XYZ_image, sRGB_image), train_logits) \n",
    "\n",
    "        grads = tape.gradient(train_loss, model.trainable_weights)\n",
    "        optimizer.apply_gradients(zip(grads, model.trainable_weights))\n",
    "        metric_fn.update_state(train_loss)\n",
    "        train_mae = metric_fn.result()\n",
    "        progbar.update(step, values=[('loss', train_mae)], finalize=False)\n",
    "    \n",
    "    metric_fn.reset_state()\n",
    "    \n",
    "    for val_batch in val_dataset.data:\n",
    "        sRGB_image = val_batch['sRGB_image']\n",
    "        XYZ_image = val_batch['XYZ_image']\n",
    "        val_logits = model(sRGB_image)\n",
    "        val_loss = loss_fn((XYZ_image, sRGB_image), val_logits) \n",
    "        metric_fn.update_state(val_loss)\n",
    "\n",
    "    val_mae = metric_fn.result()\n",
    "    values = {\n",
    "        'loss': train_mae.numpy(),\n",
    "        'val_loss': val_mae.numpy(),\n",
    "    }\n",
    "    progbar.update(\n",
    "        train_steps, \n",
    "        values=values.items(),\n",
    "        finalize=True)\n",
    "    metric_fn.reset_state()\n",
    "\n",
    "    history.append(values)"
   ]
  },
  {
   "cell_type": "code",
   "execution_count": 7,
   "metadata": {},
   "outputs": [
    {
     "data": {
      "text/plain": [
       "Text(0, 0.5, 'MAE')"
      ]
     },
     "execution_count": 7,
     "metadata": {},
     "output_type": "execute_result"
    },
    {
     "data": {
      "image/png": "[encoded data removed]",
      "text/plain": [
       "<Figure size 432x288 with 1 Axes>"
      ]
     },
     "metadata": {
      "needs_background": "light"
     },
     "output_type": "display_data"
    }
   ],
   "source": [
    "history = pd.DataFrame.from_records(history)\n",
    "plt.plot(history['loss'])\n",
    "plt.plot(history['val_loss'])\n",
    "plt.xlabel('Epochs')\n",
    "plt.ylabel('MAE')"
   ]
  }
 ],
 "metadata": {
  "interpreter": {
   "hash": "767d51c1340bd893661ea55ea3124f6de3c7a262a8b4abca0554b478b1e2ff90"
  },
  "kernelspec": {
   "display_name": "Python 3.8.10 64-bit",
   "language": "python",
   "name": "python3"
  },
  "language_info": {
   "codemirror_mode": {
    "name": "ipython",
    "version": 3
   },
   "file_extension": ".py",
   "mimetype": "text/x-python",
   "name": "python",
   "nbconvert_exporter": "python",
   "pygments_lexer": "ipython3",
   "version": "3.8.10"
  },
  "orig_nbformat": 4
 },
 "nbformat": 4,
 "nbformat_minor": 2
}
